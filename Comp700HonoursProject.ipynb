{
  "nbformat": 4,
  "nbformat_minor": 5,
  "metadata": {
    "colab": {
      "name": "Comp700HonoursProject.ipynb",
      "provenance": [],
      "toc_visible": true
    },
    "kernelspec": {
      "display_name": "Python 3",
      "language": "python",
      "name": "python3"
    },
    "language_info": {
      "codemirror_mode": {
        "name": "ipython",
        "version": 3
      },
      "file_extension": ".py",
      "mimetype": "text/x-python",
      "name": "python",
      "nbconvert_exporter": "python",
      "pygments_lexer": "ipython3",
      "version": "3.8.8"
    }
  },
  "cells": [
    {
      "cell_type": "code",
      "metadata": {
        "id": "baefb326"
      },
      "source": [
        "import numpy as np\n",
        "import pandas as pd\n",
        "from sklearn.model_selection import train_test_split\n",
        "from sklearn.metrics import classification_report\n",
        "import random\n",
        "import nltk\n",
        "import re\n",
        "import string"
      ],
      "id": "baefb326",
      "execution_count": null,
      "outputs": []
    },
    {
      "cell_type": "code",
      "metadata": {
        "id": "01e58c20",
        "colab": {
          "base_uri": "https://localhost:8080/",
          "height": 363
        },
        "outputId": "b52ceb21-c5be-4e97-f4cc-4c768e4d0c88"
      },
      "source": [
        "#reading csv file\n",
        "trdata = pd.read_csv(\"/content/drive/MyDrive/Colab Notebooks/F2train.csv\" )\n",
        "trdata = trdata.drop([\"id\",\"title\",\"author\"],axis=1)\n",
        "trdata.head(10)"
      ],
      "id": "01e58c20",
      "execution_count": null,
      "outputs": [
        {
          "output_type": "execute_result",
          "data": {
            "text/html": [
              "<div>\n",
              "<style scoped>\n",
              "    .dataframe tbody tr th:only-of-type {\n",
              "        vertical-align: middle;\n",
              "    }\n",
              "\n",
              "    .dataframe tbody tr th {\n",
              "        vertical-align: top;\n",
              "    }\n",
              "\n",
              "    .dataframe thead th {\n",
              "        text-align: right;\n",
              "    }\n",
              "</style>\n",
              "<table border=\"1\" class=\"dataframe\">\n",
              "  <thead>\n",
              "    <tr style=\"text-align: right;\">\n",
              "      <th></th>\n",
              "      <th>text</th>\n",
              "      <th>label</th>\n",
              "    </tr>\n",
              "  </thead>\n",
              "  <tbody>\n",
              "    <tr>\n",
              "      <th>0</th>\n",
              "      <td>House Dem Aide: We Didn’t Even See Comey’s Let...</td>\n",
              "      <td>1</td>\n",
              "    </tr>\n",
              "    <tr>\n",
              "      <th>1</th>\n",
              "      <td>Ever get the feeling your life circles the rou...</td>\n",
              "      <td>0</td>\n",
              "    </tr>\n",
              "    <tr>\n",
              "      <th>2</th>\n",
              "      <td>Why the Truth Might Get You Fired October 29, ...</td>\n",
              "      <td>1</td>\n",
              "    </tr>\n",
              "    <tr>\n",
              "      <th>3</th>\n",
              "      <td>Videos 15 Civilians Killed In Single US Airstr...</td>\n",
              "      <td>1</td>\n",
              "    </tr>\n",
              "    <tr>\n",
              "      <th>4</th>\n",
              "      <td>Print \\nAn Iranian woman has been sentenced to...</td>\n",
              "      <td>1</td>\n",
              "    </tr>\n",
              "    <tr>\n",
              "      <th>5</th>\n",
              "      <td>In these trying times, Jackie Mason is the Voi...</td>\n",
              "      <td>0</td>\n",
              "    </tr>\n",
              "    <tr>\n",
              "      <th>6</th>\n",
              "      <td>Ever wonder how Britain’s most iconic pop pian...</td>\n",
              "      <td>1</td>\n",
              "    </tr>\n",
              "    <tr>\n",
              "      <th>7</th>\n",
              "      <td>PARIS  —   France chose an idealistic, traditi...</td>\n",
              "      <td>0</td>\n",
              "    </tr>\n",
              "    <tr>\n",
              "      <th>8</th>\n",
              "      <td>Donald J. Trump is scheduled to make a highly ...</td>\n",
              "      <td>0</td>\n",
              "    </tr>\n",
              "    <tr>\n",
              "      <th>9</th>\n",
              "      <td>A week before Michael T. Flynn resigned as nat...</td>\n",
              "      <td>0</td>\n",
              "    </tr>\n",
              "  </tbody>\n",
              "</table>\n",
              "</div>"
            ],
            "text/plain": [
              "                                                text  label\n",
              "0  House Dem Aide: We Didn’t Even See Comey’s Let...      1\n",
              "1  Ever get the feeling your life circles the rou...      0\n",
              "2  Why the Truth Might Get You Fired October 29, ...      1\n",
              "3  Videos 15 Civilians Killed In Single US Airstr...      1\n",
              "4  Print \\nAn Iranian woman has been sentenced to...      1\n",
              "5  In these trying times, Jackie Mason is the Voi...      0\n",
              "6  Ever wonder how Britain’s most iconic pop pian...      1\n",
              "7  PARIS  —   France chose an idealistic, traditi...      0\n",
              "8  Donald J. Trump is scheduled to make a highly ...      0\n",
              "9  A week before Michael T. Flynn resigned as nat...      0"
            ]
          },
          "metadata": {},
          "execution_count": 27
        }
      ]
    },
    {
      "cell_type": "code",
      "metadata": {
        "colab": {
          "base_uri": "https://localhost:8080/"
        },
        "id": "n4xvsD8tzebW",
        "outputId": "3722ec00-b45b-4ca8-ccf8-571e665b975d"
      },
      "source": [
        "from google.colab import drive\n",
        "drive.mount('/content/drive')"
      ],
      "id": "n4xvsD8tzebW",
      "execution_count": null,
      "outputs": [
        {
          "output_type": "stream",
          "name": "stdout",
          "text": [
            "Mounted at /content/drive\n"
          ]
        }
      ]
    },
    {
      "cell_type": "markdown",
      "metadata": {
        "id": "3ce63488"
      },
      "source": [
        "# Data Preprocessing Process"
      ],
      "id": "3ce63488"
    },
    {
      "cell_type": "code",
      "metadata": {
        "colab": {
          "base_uri": "https://localhost:8080/",
          "height": 467
        },
        "id": "3d474a4d",
        "outputId": "7ade620d-bbee-4161-b711-0827010f1c97"
      },
      "source": [
        "def removeChar(text):\n",
        "    if type(text) is str:\n",
        "        text = text.lower()\n",
        "        text = re.sub('!,?','',text)\n",
        "        text = re.sub(\"'\",'',text)\n",
        "        text = re.sub('https?://\\S+|www\\.\\S+','',text)\n",
        "        text = re.sub('[%s]' % re.escape(string.punctuation),'',text)\n",
        "    return text\n",
        "\n",
        "\n",
        "\n",
        "nltk.download('stopwords')\n",
        "nltk.download('punkt')\n",
        "nltk.download('wordnet')\n",
        "from nltk.corpus import stopwords\n",
        "from nltk.tokenize import word_tokenize\n",
        "\n",
        "def stopping(text):\n",
        "  if type(text) is str:\n",
        "     text = text.split()\n",
        "     stops = set(stopwords.words(\"english\"))\n",
        "     text = [w for w in text if not w in stops]\n",
        "     text = \" \".join(text) \n",
        "  return text\n",
        "\n",
        "\n",
        "#Preprocessing for training data\n",
        "trdata['text'] = trdata['text'].apply(stopping)\n",
        "trdata['text'] = trdata['text'].apply(removeChar) \n",
        "trdata.head(10)  "
      ],
      "id": "3d474a4d",
      "execution_count": null,
      "outputs": [
        {
          "output_type": "stream",
          "name": "stdout",
          "text": [
            "[nltk_data] Downloading package stopwords to /root/nltk_data...\n",
            "[nltk_data]   Package stopwords is already up-to-date!\n",
            "[nltk_data] Downloading package punkt to /root/nltk_data...\n",
            "[nltk_data]   Package punkt is already up-to-date!\n",
            "[nltk_data] Downloading package wordnet to /root/nltk_data...\n",
            "[nltk_data]   Package wordnet is already up-to-date!\n"
          ]
        },
        {
          "output_type": "execute_result",
          "data": {
            "text/html": [
              "<div>\n",
              "<style scoped>\n",
              "    .dataframe tbody tr th:only-of-type {\n",
              "        vertical-align: middle;\n",
              "    }\n",
              "\n",
              "    .dataframe tbody tr th {\n",
              "        vertical-align: top;\n",
              "    }\n",
              "\n",
              "    .dataframe thead th {\n",
              "        text-align: right;\n",
              "    }\n",
              "</style>\n",
              "<table border=\"1\" class=\"dataframe\">\n",
              "  <thead>\n",
              "    <tr style=\"text-align: right;\">\n",
              "      <th></th>\n",
              "      <th>text</th>\n",
              "      <th>label</th>\n",
              "    </tr>\n",
              "  </thead>\n",
              "  <tbody>\n",
              "    <tr>\n",
              "      <th>0</th>\n",
              "      <td>house dem aide we didn’t even see comey’s lett...</td>\n",
              "      <td>1</td>\n",
              "    </tr>\n",
              "    <tr>\n",
              "      <th>1</th>\n",
              "      <td>ever get feeling life circles roundabout rathe...</td>\n",
              "      <td>0</td>\n",
              "    </tr>\n",
              "    <tr>\n",
              "      <th>2</th>\n",
              "      <td>why truth might get you fired october 29 2016 ...</td>\n",
              "      <td>1</td>\n",
              "    </tr>\n",
              "    <tr>\n",
              "      <th>3</th>\n",
              "      <td>videos 15 civilians killed in single us airstr...</td>\n",
              "      <td>1</td>\n",
              "    </tr>\n",
              "    <tr>\n",
              "      <th>4</th>\n",
              "      <td>print an iranian woman sentenced six years pri...</td>\n",
              "      <td>1</td>\n",
              "    </tr>\n",
              "    <tr>\n",
              "      <th>5</th>\n",
              "      <td>in trying times jackie mason voice reason in w...</td>\n",
              "      <td>0</td>\n",
              "    </tr>\n",
              "    <tr>\n",
              "      <th>6</th>\n",
              "      <td>ever wonder britain’s iconic pop pianist gets ...</td>\n",
              "      <td>1</td>\n",
              "    </tr>\n",
              "    <tr>\n",
              "      <th>7</th>\n",
              "      <td>paris — france chose idealistic traditional ca...</td>\n",
              "      <td>0</td>\n",
              "    </tr>\n",
              "    <tr>\n",
              "      <th>8</th>\n",
              "      <td>donald j trump scheduled make highly anticipat...</td>\n",
              "      <td>0</td>\n",
              "    </tr>\n",
              "    <tr>\n",
              "      <th>9</th>\n",
              "      <td>a week michael t flynn resigned national secur...</td>\n",
              "      <td>0</td>\n",
              "    </tr>\n",
              "  </tbody>\n",
              "</table>\n",
              "</div>"
            ],
            "text/plain": [
              "                                                text  label\n",
              "0  house dem aide we didn’t even see comey’s lett...      1\n",
              "1  ever get feeling life circles roundabout rathe...      0\n",
              "2  why truth might get you fired october 29 2016 ...      1\n",
              "3  videos 15 civilians killed in single us airstr...      1\n",
              "4  print an iranian woman sentenced six years pri...      1\n",
              "5  in trying times jackie mason voice reason in w...      0\n",
              "6  ever wonder britain’s iconic pop pianist gets ...      1\n",
              "7  paris — france chose idealistic traditional ca...      0\n",
              "8  donald j trump scheduled make highly anticipat...      0\n",
              "9  a week michael t flynn resigned national secur...      0"
            ]
          },
          "metadata": {},
          "execution_count": 28
        }
      ]
    },
    {
      "cell_type": "code",
      "metadata": {
        "id": "c0153f77"
      },
      "source": [
        "x = trdata['text']\n",
        "y = trdata['label']\n",
        "# train test split\n",
        "x_train,x_test,y_train,y_test = train_test_split(x,y,test_size=0.25,random_state=6)\n",
        "\n",
        "\n",
        "# Feature Extraction Process for training data\n",
        "from sklearn.feature_extraction.text import TfidfVectorizer\n",
        "Vec = TfidfVectorizer()\n",
        "xf_train = Vec.fit_transform(x_train.astype(str))\n",
        "xf_test = Vec.transform(x_test.astype(str))\n",
        "\n"
      ],
      "id": "c0153f77",
      "execution_count": null,
      "outputs": []
    },
    {
      "cell_type": "markdown",
      "metadata": {
        "id": "230f48fe"
      },
      "source": [
        "# Logistic Regression "
      ],
      "id": "230f48fe"
    },
    {
      "cell_type": "code",
      "metadata": {
        "colab": {
          "base_uri": "https://localhost:8080/"
        },
        "id": "0dc4e3d4",
        "outputId": "646b8aa4-d63a-4724-e0c7-c5a189659f6f"
      },
      "source": [
        "import matplotlib.pyplot as plt\n",
        "from sklearn.metrics import plot_confusion_matrix\n",
        "from sklearn.linear_model import LogisticRegression\n",
        "from sklearn.metrics import accuracy_score,confusion_matrix\n",
        "from sklearn.metrics import roc_curve, auc\n",
        "from sklearn.metrics import mean_absolute_error\n",
        "Log = LogisticRegression()\n",
        "Log.fit(xf_train,y_train)\n",
        "Log.score(xf_test,y_test)"
      ],
      "id": "0dc4e3d4",
      "execution_count": null,
      "outputs": [
        {
          "output_type": "execute_result",
          "data": {
            "text/plain": [
              "0.9544230769230769"
            ]
          },
          "metadata": {},
          "execution_count": 29
        }
      ]
    },
    {
      "cell_type": "code",
      "metadata": {
        "colab": {
          "base_uri": "https://localhost:8080/"
        },
        "id": "732bb630",
        "scrolled": true,
        "outputId": "2c3e9ee2-fce3-4696-98b1-0197ad8a57c9"
      },
      "source": [
        "Pred = Log.predict(xf_test)\n",
        "print(classification_report(y_test,Pred))"
      ],
      "id": "732bb630",
      "execution_count": null,
      "outputs": [
        {
          "output_type": "stream",
          "name": "stdout",
          "text": [
            "              precision    recall  f1-score   support\n",
            "\n",
            "           0       0.96      0.95      0.95      2600\n",
            "           1       0.95      0.96      0.95      2600\n",
            "\n",
            "    accuracy                           0.95      5200\n",
            "   macro avg       0.95      0.95      0.95      5200\n",
            "weighted avg       0.95      0.95      0.95      5200\n",
            "\n"
          ]
        }
      ]
    },
    {
      "cell_type": "code",
      "metadata": {
        "colab": {
          "base_uri": "https://localhost:8080/"
        },
        "id": "r0uR6sUajEH3",
        "outputId": "6df6874c-4b89-4059-fa30-4752747a7761"
      },
      "source": [
        "LR_MAPE = mean_absolute_error(y_test,Pred)\n",
        "print(LR_MAPE)"
      ],
      "id": "r0uR6sUajEH3",
      "execution_count": null,
      "outputs": [
        {
          "output_type": "stream",
          "name": "stdout",
          "text": [
            "0.04557692307692308\n"
          ]
        }
      ]
    },
    {
      "cell_type": "code",
      "metadata": {
        "colab": {
          "base_uri": "https://localhost:8080/",
          "height": 442
        },
        "id": "F0Zlol18D5jw",
        "outputId": "f8ec6a56-57c1-4a05-bbbb-447af9a61d4b"
      },
      "source": [
        "plot_confusion_matrix(Log,xf_test,y_test)\n",
        "print(\"\\n\")\n",
        "print(confusion_matrix(y_test,Pred))\n",
        "print(\"\\n\")"
      ],
      "id": "F0Zlol18D5jw",
      "execution_count": null,
      "outputs": [
        {
          "output_type": "stream",
          "name": "stderr",
          "text": [
            "/usr/local/lib/python3.7/dist-packages/sklearn/utils/deprecation.py:87: FutureWarning: Function plot_confusion_matrix is deprecated; Function `plot_confusion_matrix` is deprecated in 1.0 and will be removed in 1.2. Use one of the class methods: ConfusionMatrixDisplay.from_predictions or ConfusionMatrixDisplay.from_estimator.\n",
            "  warnings.warn(msg, category=FutureWarning)\n"
          ]
        },
        {
          "output_type": "stream",
          "name": "stdout",
          "text": [
            "\n",
            "\n",
            "[[2462  138]\n",
            " [  99 2501]]\n",
            "\n",
            "\n"
          ]
        },
        {
          "output_type": "display_data",
          "data": {
            "image/png": "[encoded data removed]",
            "text/plain": [
              "<Figure size 432x288 with 2 Axes>"
            ]
          },
          "metadata": {
            "needs_background": "light"
          }
        }
      ]
    },
    {
      "cell_type": "markdown",
      "metadata": {
        "id": "24cc48ba"
      },
      "source": [
        "# Support Vector Machines "
      ],
      "id": "24cc48ba"
    },
    {
      "cell_type": "code",
      "metadata": {
        "colab": {
          "base_uri": "https://localhost:8080/"
        },
        "id": "3413479d",
        "outputId": "d3a1cd38-76f9-48b5-abca-8978d611d026"
      },
      "source": [
        "from sklearn import svm\n",
        "SuVeMa = svm.SVC(kernel='linear', gamma= 'auto', C=2)\n",
        "SuVeMa.fit(xf_train,y_train)\n",
        "SuVeMa.score(xf_test,y_test)"
      ],
      "id": "3413479d",
      "execution_count": null,
      "outputs": [
        {
          "output_type": "execute_result",
          "data": {
            "text/plain": [
              "0.9682692307692308"
            ]
          },
          "metadata": {},
          "execution_count": 13
        }
      ]
    },
    {
      "cell_type": "code",
      "metadata": {
        "colab": {
          "base_uri": "https://localhost:8080/"
        },
        "id": "6e08f00e",
        "outputId": "58797a10-ea44-4eec-e03c-cd2ab26187fa"
      },
      "source": [
        "Pred1 = SuVeMa.predict(xf_test)\n",
        "print(classification_report(y_test,Pred1))"
      ],
      "id": "6e08f00e",
      "execution_count": null,
      "outputs": [
        {
          "output_type": "stream",
          "name": "stdout",
          "text": [
            "              precision    recall  f1-score   support\n",
            "\n",
            "           0       0.97      0.97      0.97      2600\n",
            "           1       0.97      0.97      0.97      2600\n",
            "\n",
            "    accuracy                           0.97      5200\n",
            "   macro avg       0.97      0.97      0.97      5200\n",
            "weighted avg       0.97      0.97      0.97      5200\n",
            "\n"
          ]
        }
      ]
    },
    {
      "cell_type": "code",
      "metadata": {
        "colab": {
          "base_uri": "https://localhost:8080/"
        },
        "id": "yXMG2fSHjc0H",
        "outputId": "bf79d5ab-4a44-4b3e-998a-3de7eaed1dd9"
      },
      "source": [
        "SVM_MAPE = mean_absolute_error(y_test,Pred1)\n",
        "print(SVM_MAPE)"
      ],
      "id": "yXMG2fSHjc0H",
      "execution_count": null,
      "outputs": [
        {
          "output_type": "stream",
          "name": "stdout",
          "text": [
            "1.1120216004888208\n"
          ]
        }
      ]
    },
    {
      "cell_type": "code",
      "metadata": {
        "colab": {
          "base_uri": "https://localhost:8080/",
          "height": 383
        },
        "id": "KNgb1CvMFdmp",
        "outputId": "b4c2dff0-1c7a-461b-d4da-faaed0d430bf"
      },
      "source": [
        "plot_confusion_matrix(SuVeMa,xf_test,y_test)\n",
        "print(\"\\n\")\n",
        "print(confusion_matrix(y_test,Pred1))\n",
        "print(\"\\n\")"
      ],
      "id": "KNgb1CvMFdmp",
      "execution_count": null,
      "outputs": [
        {
          "output_type": "stream",
          "name": "stdout",
          "text": [
            "\n",
            "\n",
            "[[2514   86]\n",
            " [  79 2521]]\n",
            "\n",
            "\n"
          ]
        },
        {
          "output_type": "display_data",
          "data": {
            "image/png": "[encoded data removed]",
            "text/plain": [
              "<Figure size 432x288 with 2 Axes>"
            ]
          },
          "metadata": {
            "needs_background": "light"
          }
        }
      ]
    },
    {
      "cell_type": "markdown",
      "metadata": {
        "id": "e4a3916a"
      },
      "source": [
        "# K Nearest Neighbors Classifier"
      ],
      "id": "e4a3916a"
    },
    {
      "cell_type": "code",
      "metadata": {
        "colab": {
          "base_uri": "https://localhost:8080/"
        },
        "id": "bd034c76",
        "outputId": "71c546b9-ee3c-4e7e-e8ba-05d1fb348ea9"
      },
      "source": [
        "from sklearn.neighbors import KNeighborsClassifier\n",
        "knn = KNeighborsClassifier(n_neighbors=2)\n",
        "knn.fit(xf_train,y_train)\n",
        "knn.score(xf_test,y_test)"
      ],
      "id": "bd034c76",
      "execution_count": null,
      "outputs": [
        {
          "output_type": "execute_result",
          "data": {
            "text/plain": [
              "0.62"
            ]
          },
          "metadata": {},
          "execution_count": 14
        }
      ]
    },
    {
      "cell_type": "code",
      "metadata": {
        "colab": {
          "base_uri": "https://localhost:8080/"
        },
        "id": "536e8106",
        "outputId": "bc228267-a547-43f5-84d5-b9cc8b2080fc"
      },
      "source": [
        "Pred2 = knn.predict(xf_test)\n",
        "print(classification_report(y_test,Pred2))"
      ],
      "id": "536e8106",
      "execution_count": null,
      "outputs": [
        {
          "output_type": "stream",
          "name": "stdout",
          "text": [
            "              precision    recall  f1-score   support\n",
            "\n",
            "           0       0.95      0.25      0.40      2600\n",
            "           1       0.57      0.99      0.72      2600\n",
            "\n",
            "    accuracy                           0.62      5200\n",
            "   macro avg       0.76      0.62      0.56      5200\n",
            "weighted avg       0.76      0.62      0.56      5200\n",
            "\n"
          ]
        }
      ]
    },
    {
      "cell_type": "code",
      "metadata": {
        "colab": {
          "base_uri": "https://localhost:8080/"
        },
        "id": "cqFR8plTjtlX",
        "outputId": "c2301be0-df0f-473c-9c5d-6302e02b82b9"
      },
      "source": [
        "KNN_MAPE = mean_absolute_error(y_test,Pred2)\n",
        "print(KNN_MAPE)"
      ],
      "id": "cqFR8plTjtlX",
      "execution_count": null,
      "outputs": [
        {
          "output_type": "stream",
          "name": "stdout",
          "text": [
            "0.38\n"
          ]
        }
      ]
    },
    {
      "cell_type": "code",
      "metadata": {
        "colab": {
          "base_uri": "https://localhost:8080/",
          "height": 438
        },
        "id": "IZ0gwnRrFouA",
        "outputId": "c952ab7b-c9fd-4ae3-a5ab-06d4abb9d60e"
      },
      "source": [
        "plot_confusion_matrix(knn,xf_test,y_test)\n",
        "print(\"\\n\")\n",
        "print(confusion_matrix(y_test,Pred2))\n",
        "print(\"\\n\")"
      ],
      "id": "IZ0gwnRrFouA",
      "execution_count": null,
      "outputs": [
        {
          "output_type": "stream",
          "name": "stderr",
          "text": [
            "/usr/local/lib/python3.7/dist-packages/sklearn/utils/deprecation.py:87: FutureWarning: Function plot_confusion_matrix is deprecated; Function `plot_confusion_matrix` is deprecated in 1.0 and will be removed in 1.2. Use one of the class methods: ConfusionMatrixDisplay.from_predictions or ConfusionMatrixDisplay.from_estimator.\n",
            "  warnings.warn(msg, category=FutureWarning)\n"
          ]
        },
        {
          "output_type": "stream",
          "name": "stdout",
          "text": [
            "\n",
            "\n",
            "[[ 660 1940]\n",
            " [  36 2564]]\n",
            "\n",
            "\n"
          ]
        },
        {
          "output_type": "display_data",
          "data": {
            "image/png": "[encoded data removed]",
            "text/plain": [
              "<Figure size 432x288 with 2 Axes>"
            ]
          },
          "metadata": {
            "needs_background": "light"
          }
        }
      ]
    },
    {
      "cell_type": "markdown",
      "metadata": {
        "id": "b306e4a4"
      },
      "source": [
        "# Decision Tree Classifier"
      ],
      "id": "b306e4a4"
    },
    {
      "cell_type": "code",
      "metadata": {
        "colab": {
          "base_uri": "https://localhost:8080/"
        },
        "id": "57025075",
        "outputId": "7c12a0c5-4678-4734-f053-daa0823ab809"
      },
      "source": [
        "from sklearn.tree import DecisionTreeClassifier\n",
        "dt = DecisionTreeClassifier()\n",
        "dt.fit(xf_train,y_train)\n",
        "dt.score(xf_test,y_test)"
      ],
      "id": "57025075",
      "execution_count": null,
      "outputs": [
        {
          "output_type": "execute_result",
          "data": {
            "text/plain": [
              "0.8878846153846154"
            ]
          },
          "metadata": {},
          "execution_count": 18
        }
      ]
    },
    {
      "cell_type": "code",
      "metadata": {
        "colab": {
          "base_uri": "https://localhost:8080/"
        },
        "id": "2ed9bda1",
        "outputId": "550d0b52-986d-4b89-b125-e1104386fd4d"
      },
      "source": [
        "Pred4 = dt.predict(xf_test)\n",
        "print(classification_report(y_test,Pred4))"
      ],
      "id": "2ed9bda1",
      "execution_count": null,
      "outputs": [
        {
          "output_type": "stream",
          "name": "stdout",
          "text": [
            "              precision    recall  f1-score   support\n",
            "\n",
            "           0       0.89      0.89      0.89      2600\n",
            "           1       0.89      0.89      0.89      2600\n",
            "\n",
            "    accuracy                           0.89      5200\n",
            "   macro avg       0.89      0.89      0.89      5200\n",
            "weighted avg       0.89      0.89      0.89      5200\n",
            "\n"
          ]
        }
      ]
    },
    {
      "cell_type": "code",
      "metadata": {
        "colab": {
          "base_uri": "https://localhost:8080/"
        },
        "id": "QdsACSAkj0mJ",
        "outputId": "fb3dba75-116b-482a-c1a9-6dd437d2fb23"
      },
      "source": [
        "DTC_MAPE = mean_absolute_error(y_test,Pred4)\n",
        "print(DTC_MAPE)"
      ],
      "id": "QdsACSAkj0mJ",
      "execution_count": null,
      "outputs": [
        {
          "output_type": "stream",
          "name": "stdout",
          "text": [
            "0.11211538461538462\n"
          ]
        }
      ]
    },
    {
      "cell_type": "code",
      "metadata": {
        "colab": {
          "base_uri": "https://localhost:8080/",
          "height": 438
        },
        "id": "C20ynIbTGEBQ",
        "outputId": "af5cf022-542b-4993-aa71-1cdbc7a5eb91"
      },
      "source": [
        "plot_confusion_matrix(dt,xf_test,y_test)\n",
        "print(\"\\n\")\n",
        "print(confusion_matrix(y_test,Pred4))\n",
        "print(\"\\n\")"
      ],
      "id": "C20ynIbTGEBQ",
      "execution_count": null,
      "outputs": [
        {
          "output_type": "stream",
          "name": "stdout",
          "text": [
            "\n",
            "\n",
            "[[2306  294]\n",
            " [ 289 2311]]\n",
            "\n",
            "\n"
          ]
        },
        {
          "output_type": "stream",
          "name": "stderr",
          "text": [
            "/usr/local/lib/python3.7/dist-packages/sklearn/utils/deprecation.py:87: FutureWarning: Function plot_confusion_matrix is deprecated; Function `plot_confusion_matrix` is deprecated in 1.0 and will be removed in 1.2. Use one of the class methods: ConfusionMatrixDisplay.from_predictions or ConfusionMatrixDisplay.from_estimator.\n",
            "  warnings.warn(msg, category=FutureWarning)\n"
          ]
        },
        {
          "output_type": "display_data",
          "data": {
            "image/png": "[encoded data removed]",
            "text/plain": [
              "<Figure size 432x288 with 2 Axes>"
            ]
          },
          "metadata": {
            "needs_background": "light"
          }
        }
      ]
    },
    {
      "cell_type": "markdown",
      "metadata": {
        "id": "df802bd4"
      },
      "source": [
        "# Gradient Boosting Classifier"
      ],
      "id": "df802bd4"
    },
    {
      "cell_type": "code",
      "metadata": {
        "colab": {
          "base_uri": "https://localhost:8080/"
        },
        "id": "24ad22d1",
        "outputId": "3164988b-4ae0-42d6-c07a-c8cb40169364"
      },
      "source": [
        "from sklearn.ensemble import GradientBoostingClassifier\n",
        "gb = GradientBoostingClassifier(random_state=0)\n",
        "gb.fit(xf_train,y_train)\n",
        "gb.score(xf_test,y_test)\n"
      ],
      "id": "24ad22d1",
      "execution_count": null,
      "outputs": [
        {
          "output_type": "execute_result",
          "data": {
            "text/plain": [
              "0.931923076923077"
            ]
          },
          "metadata": {},
          "execution_count": 22
        }
      ]
    },
    {
      "cell_type": "code",
      "metadata": {
        "colab": {
          "base_uri": "https://localhost:8080/"
        },
        "id": "ec19bc11",
        "outputId": "0831dbe3-b6fa-43c2-a1aa-909335e87b4e"
      },
      "source": [
        "Pred5 = gb.predict(xf_test)\n",
        "print(classification_report(y_test,Pred5))"
      ],
      "id": "ec19bc11",
      "execution_count": null,
      "outputs": [
        {
          "output_type": "stream",
          "name": "stdout",
          "text": [
            "              precision    recall  f1-score   support\n",
            "\n",
            "           0       0.95      0.92      0.93      2600\n",
            "           1       0.92      0.95      0.93      2600\n",
            "\n",
            "    accuracy                           0.93      5200\n",
            "   macro avg       0.93      0.93      0.93      5200\n",
            "weighted avg       0.93      0.93      0.93      5200\n",
            "\n"
          ]
        }
      ]
    },
    {
      "cell_type": "code",
      "metadata": {
        "colab": {
          "base_uri": "https://localhost:8080/"
        },
        "id": "969-tYzMkJbV",
        "outputId": "0e83b034-024f-4cec-b6d1-b4e8f13b0332"
      },
      "source": [
        "GBC_MAPE = mean_absolute_error(y_test,Pred5)\n",
        "print(GBC_MAPE)"
      ],
      "id": "969-tYzMkJbV",
      "execution_count": null,
      "outputs": [
        {
          "output_type": "stream",
          "name": "stdout",
          "text": [
            "0.06807692307692308\n"
          ]
        }
      ]
    },
    {
      "cell_type": "code",
      "metadata": {
        "colab": {
          "base_uri": "https://localhost:8080/",
          "height": 438
        },
        "id": "Q8lXr21bGI54",
        "outputId": "a2b38098-be20-4717-9a68-027720302a53"
      },
      "source": [
        "plot_confusion_matrix(gb,xf_test,y_test)\n",
        "print(\"\\n\")\n",
        "print(confusion_matrix(y_test,Pred5))\n",
        "print(\"\\n\")"
      ],
      "id": "Q8lXr21bGI54",
      "execution_count": null,
      "outputs": [
        {
          "output_type": "stream",
          "name": "stdout",
          "text": [
            "\n",
            "\n",
            "[[2381  219]\n",
            " [ 135 2465]]\n",
            "\n",
            "\n"
          ]
        },
        {
          "output_type": "stream",
          "name": "stderr",
          "text": [
            "/usr/local/lib/python3.7/dist-packages/sklearn/utils/deprecation.py:87: FutureWarning: Function plot_confusion_matrix is deprecated; Function `plot_confusion_matrix` is deprecated in 1.0 and will be removed in 1.2. Use one of the class methods: ConfusionMatrixDisplay.from_predictions or ConfusionMatrixDisplay.from_estimator.\n",
            "  warnings.warn(msg, category=FutureWarning)\n"
          ]
        },
        {
          "output_type": "display_data",
          "data": {
            "image/png": "[encoded data removed]",
            "text/plain": [
              "<Figure size 432x288 with 2 Axes>"
            ]
          },
          "metadata": {
            "needs_background": "light"
          }
        }
      ]
    },
    {
      "cell_type": "markdown",
      "metadata": {
        "id": "be42343f"
      },
      "source": [
        "# Random Forest Classifier"
      ],
      "id": "be42343f"
    },
    {
      "cell_type": "code",
      "metadata": {
        "colab": {
          "base_uri": "https://localhost:8080/"
        },
        "id": "d1d134c5",
        "outputId": "6ed26e29-6d11-4b3d-e317-2837ae94d541"
      },
      "source": [
        "from sklearn.ensemble import RandomForestClassifier\n",
        "rf = RandomForestClassifier(random_state=0)\n",
        "rf.fit(xf_train, y_train)\n",
        "rf.score(xf_test,y_test)"
      ],
      "id": "d1d134c5",
      "execution_count": null,
      "outputs": [
        {
          "output_type": "execute_result",
          "data": {
            "text/plain": [
              "0.9234615384615384"
            ]
          },
          "metadata": {},
          "execution_count": 29
        }
      ]
    },
    {
      "cell_type": "code",
      "metadata": {
        "colab": {
          "base_uri": "https://localhost:8080/"
        },
        "id": "07c8de38",
        "outputId": "c97cb9cc-35d0-4a34-8b50-f5610f35611d"
      },
      "source": [
        "Pred6 = rf.predict(xf_test)\n",
        "print(classification_report(y_test,Pred6))"
      ],
      "id": "07c8de38",
      "execution_count": null,
      "outputs": [
        {
          "output_type": "stream",
          "name": "stdout",
          "text": [
            "              precision    recall  f1-score   support\n",
            "\n",
            "           0       0.90      0.95      0.93      2600\n",
            "           1       0.95      0.90      0.92      2600\n",
            "\n",
            "    accuracy                           0.92      5200\n",
            "   macro avg       0.92      0.92      0.92      5200\n",
            "weighted avg       0.92      0.92      0.92      5200\n",
            "\n"
          ]
        }
      ]
    },
    {
      "cell_type": "code",
      "metadata": {
        "colab": {
          "base_uri": "https://localhost:8080/"
        },
        "id": "8SuSZKTUkWWp",
        "outputId": "77462f53-8422-4d41-9cad-cabd8f07cae3"
      },
      "source": [
        "RFC_MAPE = mean_absolute_error(y_test,Pred6)\n",
        "print(RFC_MAPE)"
      ],
      "id": "8SuSZKTUkWWp",
      "execution_count": null,
      "outputs": [
        {
          "output_type": "stream",
          "name": "stdout",
          "text": [
            "0.07653846153846154\n"
          ]
        }
      ]
    },
    {
      "cell_type": "code",
      "metadata": {
        "colab": {
          "base_uri": "https://localhost:8080/",
          "height": 381
        },
        "id": "s8IKZSyOGPVQ",
        "outputId": "d4d1bba0-2fd4-4023-c8ff-3b67d6487bfe"
      },
      "source": [
        "plot_confusion_matrix(rf,xf_test,y_test)\n",
        "print(\"\\n\")\n",
        "print(confusion_matrix(y_test,Pred6))\n",
        "print(\"\\n\")"
      ],
      "id": "s8IKZSyOGPVQ",
      "execution_count": null,
      "outputs": [
        {
          "output_type": "stream",
          "name": "stdout",
          "text": [
            "\n",
            "\n",
            "[[2471  129]\n",
            " [ 269 2331]]\n",
            "\n",
            "\n"
          ]
        },
        {
          "output_type": "display_data",
          "data": {
            "image/png": "[encoded data removed]",
            "text/plain": [
              "<Figure size 432x288 with 2 Axes>"
            ]
          },
          "metadata": {
            "needs_background": "light"
          }
        }
      ]
    },
    {
      "cell_type": "markdown",
      "metadata": {
        "id": "AKPm1vaR88FG"
      },
      "source": [
        "# Neural Networks \n"
      ],
      "id": "AKPm1vaR88FG"
    },
    {
      "cell_type": "code",
      "metadata": {
        "id": "ZnsX9uxsbXRx"
      },
      "source": [
        "from tensorflow.keras.layers import Embedding\n",
        "from tensorflow.keras.preprocessing.sequence import pad_sequences\n",
        "from tensorflow.keras.models import Sequential\n",
        "from tensorflow.keras.preprocessing.text import one_hot\n",
        "from tensorflow.keras.layers import LSTM\n",
        "from tensorflow.keras.layers import Dense\n",
        "wordsVec = 50000\n",
        "oneHot = [one_hot(words,wordsVec)for words in trdata['text'].astype(str)]"
      ],
      "id": "ZnsX9uxsbXRx",
      "execution_count": null,
      "outputs": []
    },
    {
      "cell_type": "code",
      "metadata": {
        "colab": {
          "base_uri": "https://localhost:8080/"
        },
        "id": "KaJN8uf8jy43",
        "outputId": "4aaffd9b-3bac-46aa-ec0a-2868d994ddd1"
      },
      "source": [
        "s_length = 20\n",
        "embedded = pad_sequences(oneHot,padding='pre',maxlen=s_length)\n",
        "print(embedded)"
      ],
      "id": "KaJN8uf8jy43",
      "execution_count": null,
      "outputs": [
        {
          "output_type": "stream",
          "name": "stdout",
          "text": [
            "[[13558 46236  8838 ... 45331 11366 29685]\n",
            " [32980 45134  3301 ... 41830 47413 15186]\n",
            " [42542 17522  2601 ...  5600 26027 36887]\n",
            " ...\n",
            " [30930 49878 25924 ... 31178 13422 26351]\n",
            " [13529 23350 43059 ... 14013 42308 18202]\n",
            " [39319  3318 22549 ...  1041 15723 49838]]\n"
          ]
        }
      ]
    },
    {
      "cell_type": "code",
      "metadata": {
        "id": "UeWDTsWY_b39"
      },
      "source": [
        "embedded_Vec_features = 40\n",
        "model=Sequential()\n",
        "model.add(Embedding(wordsVec,embedded_Vec_features,input_length=s_length))\n",
        "model.add(LSTM(100))\n",
        "model.add(Dense(1,activation='sigmoid'))\n",
        "model.compile(loss='binary_crossentropy',optimizer='adam',metrics=['accuracy'])"
      ],
      "id": "UeWDTsWY_b39",
      "execution_count": null,
      "outputs": []
    },
    {
      "cell_type": "code",
      "metadata": {
        "colab": {
          "base_uri": "https://localhost:8080/"
        },
        "id": "bsdvc-muAftb",
        "outputId": "e5c152f0-0229-4b9f-acbf-b1d109200461"
      },
      "source": [
        "X1 = np.array(embedded)\n",
        "Y1 = np.array(y)\n",
        "X1.shape,Y1.shape"
      ],
      "id": "bsdvc-muAftb",
      "execution_count": null,
      "outputs": [
        {
          "output_type": "execute_result",
          "data": {
            "text/plain": [
              "((20800, 20), (20800,))"
            ]
          },
          "metadata": {},
          "execution_count": 36
        }
      ]
    },
    {
      "cell_type": "code",
      "metadata": {
        "colab": {
          "base_uri": "https://localhost:8080/"
        },
        "id": "DAMRQ1akCIIH",
        "outputId": "5daa85dc-27b4-4bee-b550-00a60d2e560e"
      },
      "source": [
        "from sklearn.model_selection import train_test_split\n",
        "X1_train, X1_test, y1_train, y1_test = train_test_split(X1, Y1, test_size=0.25, random_state=6)\n",
        "History = model.fit(X1_train,y1_train,validation_data=(X1_test,y1_test),epochs=20,batch_size=32)"
      ],
      "id": "DAMRQ1akCIIH",
      "execution_count": null,
      "outputs": [
        {
          "output_type": "stream",
          "name": "stdout",
          "text": [
            "Epoch 1/20\n",
            "488/488 [==============================] - 23s 42ms/step - loss: 0.3127 - accuracy: 0.8535 - val_loss: 0.2340 - val_accuracy: 0.9000\n",
            "Epoch 2/20\n",
            "488/488 [==============================] - 20s 41ms/step - loss: 0.0989 - accuracy: 0.9628 - val_loss: 0.2718 - val_accuracy: 0.8925\n",
            "Epoch 3/20\n",
            "488/488 [==============================] - 20s 41ms/step - loss: 0.0226 - accuracy: 0.9934 - val_loss: 0.3639 - val_accuracy: 0.8900\n",
            "Epoch 4/20\n",
            "488/488 [==============================] - 20s 41ms/step - loss: 0.0063 - accuracy: 0.9983 - val_loss: 0.6050 - val_accuracy: 0.8781\n",
            "Epoch 5/20\n",
            "488/488 [==============================] - 20s 41ms/step - loss: 0.0019 - accuracy: 0.9997 - val_loss: 0.6813 - val_accuracy: 0.8785\n",
            "Epoch 6/20\n",
            "488/488 [==============================] - 20s 41ms/step - loss: 0.0043 - accuracy: 0.9988 - val_loss: 0.5156 - val_accuracy: 0.8865\n",
            "Epoch 7/20\n",
            "488/488 [==============================] - 20s 40ms/step - loss: 0.0040 - accuracy: 0.9991 - val_loss: 0.6499 - val_accuracy: 0.8777\n",
            "Epoch 8/20\n",
            "488/488 [==============================] - 20s 40ms/step - loss: 0.0025 - accuracy: 0.9992 - val_loss: 0.7032 - val_accuracy: 0.8775\n",
            "Epoch 9/20\n",
            "488/488 [==============================] - 20s 41ms/step - loss: 0.0035 - accuracy: 0.9985 - val_loss: 0.5673 - val_accuracy: 0.8827\n",
            "Epoch 10/20\n",
            "488/488 [==============================] - 20s 41ms/step - loss: 0.0018 - accuracy: 0.9994 - val_loss: 0.7039 - val_accuracy: 0.8763\n",
            "Epoch 11/20\n",
            "488/488 [==============================] - 20s 41ms/step - loss: 9.3549e-04 - accuracy: 0.9997 - val_loss: 0.8962 - val_accuracy: 0.8769\n",
            "Epoch 12/20\n",
            "488/488 [==============================] - 19s 40ms/step - loss: 2.2064e-04 - accuracy: 0.9999 - val_loss: 0.9821 - val_accuracy: 0.8767\n",
            "Epoch 13/20\n",
            "488/488 [==============================] - 20s 40ms/step - loss: 2.7664e-05 - accuracy: 1.0000 - val_loss: 0.9955 - val_accuracy: 0.8769\n",
            "Epoch 14/20\n",
            "488/488 [==============================] - 20s 40ms/step - loss: 1.4925e-05 - accuracy: 1.0000 - val_loss: 0.9966 - val_accuracy: 0.8785\n",
            "Epoch 15/20\n",
            "488/488 [==============================] - 19s 40ms/step - loss: 9.7652e-06 - accuracy: 1.0000 - val_loss: 1.0656 - val_accuracy: 0.8760\n",
            "Epoch 16/20\n",
            "488/488 [==============================] - 20s 40ms/step - loss: 6.0420e-06 - accuracy: 1.0000 - val_loss: 1.0988 - val_accuracy: 0.8762\n",
            "Epoch 17/20\n",
            "488/488 [==============================] - 20s 40ms/step - loss: 4.5786e-06 - accuracy: 1.0000 - val_loss: 1.1292 - val_accuracy: 0.8752\n",
            "Epoch 18/20\n",
            "488/488 [==============================] - 19s 40ms/step - loss: 4.7928e-06 - accuracy: 1.0000 - val_loss: 1.1140 - val_accuracy: 0.8754\n",
            "Epoch 19/20\n",
            "488/488 [==============================] - 19s 40ms/step - loss: 2.1502e-06 - accuracy: 1.0000 - val_loss: 1.1835 - val_accuracy: 0.8752\n",
            "Epoch 20/20\n",
            "488/488 [==============================] - 19s 40ms/step - loss: 2.2285e-06 - accuracy: 1.0000 - val_loss: 1.2014 - val_accuracy: 0.8750\n"
          ]
        }
      ]
    },
    {
      "cell_type": "code",
      "metadata": {
        "colab": {
          "base_uri": "https://localhost:8080/",
          "height": 296
        },
        "id": "grw1OBxZDeSy",
        "outputId": "5674fc3c-e24a-41bc-8c45-29727ed56d19"
      },
      "source": [
        "import matplotlib.pyplot as plt\n",
        "plt.plot(History.history['val_accuracy'])\n",
        "plt.plot(History.history['accuracy'])\n",
        "plt.ylabel('Accuracy')\n",
        "plt.xlabel('Epoch')\n",
        "plt.legend(['train', 'test'], loc='upper right')"
      ],
      "id": "grw1OBxZDeSy",
      "execution_count": null,
      "outputs": [
        {
          "output_type": "execute_result",
          "data": {
            "text/plain": [
              "<matplotlib.legend.Legend at 0x7fac76429bd0>"
            ]
          },
          "metadata": {},
          "execution_count": 47
        },
        {
          "output_type": "display_data",
          "data": {
            "image/png": "[encoded data removed]",
            "text/plain": [
              "<Figure size 432x288 with 1 Axes>"
            ]
          },
          "metadata": {
            "needs_background": "light"
          }
        }
      ]
    },
    {
      "cell_type": "markdown",
      "metadata": {
        "id": "kCWA8XPu96I7"
      },
      "source": [
        "# ROC and AUC For SVM and logistic Regression"
      ],
      "id": "kCWA8XPu96I7"
    },
    {
      "cell_type": "code",
      "metadata": {
        "colab": {
          "base_uri": "https://localhost:8080/"
        },
        "id": "EfqgQRTGWy3H",
        "outputId": "613a4157-8626-41e4-97b2-635117778864"
      },
      "source": [
        "Pred = Log.decision_function(xf_test)\n",
        "Pred1 = SuVeMa.decision_function(xf_test)\n",
        "#Pred6 = rf.decision_function(xf_test)\n",
        "#Logistic Regression fpr,tpr\n",
        "log_fpr, log_tpr, threshold = roc_curve(y_test, Pred)\n",
        "auc_log = auc(log_fpr, log_tpr)\n",
        "\n",
        "#SVM fpr,tpr\n",
        "svm_fpr, svm_tpr, threshold = roc_curve(y_test, Pred1)\n",
        "auc_svm = auc(svm_fpr, svm_tpr)\n",
        "\n",
        "\n",
        "\n",
        "plt.figure(figsize=(5, 5), dpi=100)\n",
        "plt.plot(svm_fpr, svm_tpr, linestyle='-', label='SVM (auc = %0.3f)' % auc_svm)\n",
        "plt.plot(log_fpr, log_tpr, marker='.', label='Logistic Reg (auc = %0.3f)' % auc_log)\n",
        "\n",
        "\n",
        "\n",
        "plt.xlabel('False Positive ')\n",
        "plt.ylabel('True Positive ')\n",
        "\n",
        "plt.legend()\n",
        "\n",
        "plt.show()"
      ],
      "id": "EfqgQRTGWy3H",
      "execution_count": null,
      "outputs": [
        {
          "output_type": "display_data",
          "data": {
            "image/png": "[encoded data removed]",
            "text/plain": [
              "<Figure size 500x500 with 1 Axes>"
            ]
          },
          "metadata": {
            "needs_background": "light"
          }
        }
      ]
    },
    {
      "cell_type": "markdown",
      "metadata": {
        "id": "3FuabXsAHPrA"
      },
      "source": [
        "# Summary For All Models Accuracy"
      ],
      "id": "3FuabXsAHPrA"
    },
    {
      "cell_type": "code",
      "metadata": {
        "colab": {
          "base_uri": "https://localhost:8080/"
        },
        "id": "jLdcqohnHEEa",
        "outputId": "53783e6a-b2c6-430b-9115-608d970d68f9"
      },
      "source": [
        "barWidth = 0.25\n",
        "fig = plt.subplots(figsize =(12, 8))\n",
        " \n",
        "DATASET1 = [95, 97, 62, 89, 93,92,87]\n",
        "DATASET2 = [98, 99, 70, 99, 99,98,95]\n",
        "\n",
        "br1 = np.arange(len(DATASET1))\n",
        "br2 = [x + barWidth for x in br1]\n",
        "\n",
        "plt.bar(br1, DATASET1, color ='r', width = barWidth,\n",
        "        edgecolor ='grey', label ='DATASET1')\n",
        "plt.bar(br2, DATASET2, color ='g', width = barWidth,\n",
        "        edgecolor ='grey', label ='DATASET2')\n",
        "\n",
        "plt.xlabel('MODELS', fontweight ='bold', fontsize = 15)\n",
        "plt.ylabel('ACCURACY', fontweight ='bold', fontsize = 15)\n",
        "plt.xticks([r + barWidth for r in range(len(DATASET1))],\n",
        "        ['LR', 'SVM', 'KNN', 'DTC', 'GBC','RFC','LSTM'])\n",
        " \n",
        "plt.legend()\n",
        "plt.show()"
      ],
      "id": "jLdcqohnHEEa",
      "execution_count": null,
      "outputs": [
        {
          "output_type": "display_data",
          "data": {
            "image/png": "[encoded data removed]",
            "text/plain": [
              "<Figure size 864x576 with 1 Axes>"
            ]
          },
          "metadata": {
            "needs_background": "light"
          }
        }
      ]
    },
    {
      "cell_type": "markdown",
      "metadata": {
        "id": "3lSFfkH3ZT14"
      },
      "source": [
        "# Summary For All Models Classification Reports DATASET1"
      ],
      "id": "3lSFfkH3ZT14"
    },
    {
      "cell_type": "code",
      "metadata": {
        "colab": {
          "base_uri": "https://localhost:8080/"
        },
        "id": "bER7TNmxVBee",
        "outputId": "19865b49-7a25-49ec-ce5f-b947ca34fc16"
      },
      "source": [
        "barWidth = 0.25\n",
        "fig = plt.subplots(figsize =(12, 8))\n",
        " \n",
        "f1_score = [95, 97, 56, 89, 93,92,87]\n",
        "Recall = [95, 97, 62, 89, 93,92,87]\n",
        "Precision = [95, 97, 76, 89, 93,92,87]\n",
        "\n",
        "br1 = np.arange(len(f1_score))\n",
        "br2 = [x + barWidth for x in br1]\n",
        "br3 = [x + barWidth for x in br2]\n",
        "\n",
        "plt.bar(br1, f1_score, color ='r', width = barWidth,\n",
        "        edgecolor ='grey', label ='f1_score')\n",
        "plt.bar(br2, Recall, color ='g', width = barWidth,\n",
        "        edgecolor ='grey', label ='Recall')\n",
        "plt.bar(br3, Precision, color ='b', width = barWidth,\n",
        "        edgecolor ='grey', label ='Precision')\n",
        "\n",
        "plt.xlabel('MODELS', fontweight ='bold', fontsize = 15)\n",
        "plt.ylabel('PERCENTAGE ', fontweight ='bold', fontsize = 15)\n",
        "plt.xticks([r + barWidth for r in range(len(f1_score))],\n",
        "        ['LR', 'SVM', 'KNN', 'DTC', 'GBC','RFC','LSTM'])\n",
        " \n",
        "plt.legend()\n",
        "plt.show()"
      ],
      "id": "bER7TNmxVBee",
      "execution_count": null,
      "outputs": [
        {
          "output_type": "display_data",
          "data": {
            "image/png": "[encoded data removed]",
            "text/plain": [
              "<Figure size 864x576 with 1 Axes>"
            ]
          },
          "metadata": {
            "needs_background": "light"
          }
        }
      ]
    },
    {
      "cell_type": "markdown",
      "metadata": {
        "id": "jTqodHaro0_D"
      },
      "source": [
        "# Summary For All Models Classification Reports DATASET2"
      ],
      "id": "jTqodHaro0_D"
    },
    {
      "cell_type": "code",
      "metadata": {
        "colab": {
          "base_uri": "https://localhost:8080/"
        },
        "id": "Q0tG1zNCpEqw",
        "outputId": "f9e36be8-56f5-4a48-c1cd-dd32a4d317c0"
      },
      "source": [
        "barWidth = 0.25\n",
        "fig = plt.subplots(figsize =(12, 8))\n",
        " \n",
        "f1_score = [98, 99, 68, 99, 99,98,95]\n",
        "Recall = [98, 99, 70, 99, 99,98,95]\n",
        "Precision = [98, 99, 78, 99, 99,98,95]\n",
        "\n",
        "br1 = np.arange(len(f1_score))\n",
        "br2 = [x + barWidth for x in br1]\n",
        "br3 = [x + barWidth for x in br2]\n",
        "\n",
        "plt.bar(br1, f1_score, color ='blue', width = barWidth,\n",
        "        edgecolor ='grey', label ='f1_score')\n",
        "plt.bar(br2, Recall, color ='cyan', width = barWidth,\n",
        "        edgecolor ='grey', label ='Recall')\n",
        "plt.bar(br3, Precision, color ='black', width = barWidth,\n",
        "        edgecolor ='grey', label ='Precision')\n",
        "\n",
        "plt.xlabel('MODELS', fontweight ='bold', fontsize = 15)\n",
        "plt.ylabel('PERCENTAGE ', fontweight ='bold', fontsize = 15)\n",
        "plt.xticks([r + barWidth for r in range(len(f1_score))],\n",
        "        ['LR', 'SVM', 'KNN', 'DTC', 'GBC','RFC','LSTM'])\n",
        " \n",
        "plt.legend()\n",
        "plt.show()"
      ],
      "id": "Q0tG1zNCpEqw",
      "execution_count": null,
      "outputs": [
        {
          "output_type": "display_data",
          "data": {
            "image/png": "[encoded data removed]",
            "text/plain": [
              "<Figure size 864x576 with 1 Axes>"
            ]
          },
          "metadata": {
            "needs_background": "light"
          }
        }
      ]
    }
  ]
}