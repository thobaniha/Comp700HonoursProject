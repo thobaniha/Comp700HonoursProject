{
  "nbformat": 4,
  "nbformat_minor": 5,
  "metadata": {
    "colab": {
      "name": "Copy of Comp700HonoursProject Using 2nd Dataset.ipynb",
      "provenance": [],
      "toc_visible": true
    },
    "kernelspec": {
      "display_name": "Python 3",
      "language": "python",
      "name": "python3"
    },
    "language_info": {
      "codemirror_mode": {
        "name": "ipython",
        "version": 3
      },
      "file_extension": ".py",
      "mimetype": "text/x-python",
      "name": "python",
      "nbconvert_exporter": "python",
      "pygments_lexer": "ipython3",
      "version": "3.8.8"
    }
  },
  "cells": [
    {
      "cell_type": "code",
      "metadata": {
        "id": "baefb326"
      },
      "source": [
        "import numpy as np\n",
        "import pandas as pd\n",
        "from sklearn.model_selection import train_test_split\n",
        "from sklearn.metrics import classification_report\n",
        "import random\n",
        "import nltk\n",
        "import re\n",
        "import string"
      ],
      "id": "baefb326",
      "execution_count": 1,
      "outputs": []
    },
    {
      "cell_type": "code",
      "metadata": {
        "colab": {
          "base_uri": "https://localhost:8080/",
          "height": 363
        },
        "id": "01e58c20",
        "outputId": "c5aacf46-add4-4a39-c528-09393261af5c"
      },
      "source": [
        "#reading csv file\n",
        "trdata = pd.read_csv(\"/content/drive/MyDrive/Colab Notebooks/F3train.csv\")\n",
        "\n",
        "trdata = trdata.drop([\"Id\",\"title\",\"subject\",\"date\"],axis=1)\n",
        "\n",
        "trdata.head(10)"
      ],
      "id": "01e58c20",
      "execution_count": 4,
      "outputs": [
        {
          "output_type": "execute_result",
          "data": {
            "text/html": [
              "<div>\n",
              "<style scoped>\n",
              "    .dataframe tbody tr th:only-of-type {\n",
              "        vertical-align: middle;\n",
              "    }\n",
              "\n",
              "    .dataframe tbody tr th {\n",
              "        vertical-align: top;\n",
              "    }\n",
              "\n",
              "    .dataframe thead th {\n",
              "        text-align: right;\n",
              "    }\n",
              "</style>\n",
              "<table border=\"1\" class=\"dataframe\">\n",
              "  <thead>\n",
              "    <tr style=\"text-align: right;\">\n",
              "      <th></th>\n",
              "      <th>text</th>\n",
              "      <th>label</th>\n",
              "    </tr>\n",
              "  </thead>\n",
              "  <tbody>\n",
              "    <tr>\n",
              "      <th>0</th>\n",
              "      <td>Paul Manafort, the chair of Donald Trump s cam...</td>\n",
              "      <td>1</td>\n",
              "    </tr>\n",
              "    <tr>\n",
              "      <th>1</th>\n",
              "      <td>How very  charitable  of the Lutheran and Cath...</td>\n",
              "      <td>1</td>\n",
              "    </tr>\n",
              "    <tr>\n",
              "      <th>2</th>\n",
              "      <td>In case you ve been living under a rock for yo...</td>\n",
              "      <td>1</td>\n",
              "    </tr>\n",
              "    <tr>\n",
              "      <th>3</th>\n",
              "      <td>PARIS (Reuters) - A court on Friday sentenced ...</td>\n",
              "      <td>0</td>\n",
              "    </tr>\n",
              "    <tr>\n",
              "      <th>4</th>\n",
              "      <td>PRAGUE (Reuters) - The Czech government will s...</td>\n",
              "      <td>0</td>\n",
              "    </tr>\n",
              "    <tr>\n",
              "      <th>5</th>\n",
              "      <td>Could this be a little bit of KARMA coming bac...</td>\n",
              "      <td>1</td>\n",
              "    </tr>\n",
              "    <tr>\n",
              "      <th>6</th>\n",
              "      <td>Kansas  education system is a mess, thanks to ...</td>\n",
              "      <td>1</td>\n",
              "    </tr>\n",
              "    <tr>\n",
              "      <th>7</th>\n",
              "      <td>I would hope that a wise Latina woman with th...</td>\n",
              "      <td>1</td>\n",
              "    </tr>\n",
              "    <tr>\n",
              "      <th>8</th>\n",
              "      <td>HOUSTON (Reuters) - U.S. President Donald Trum...</td>\n",
              "      <td>0</td>\n",
              "    </tr>\n",
              "    <tr>\n",
              "      <th>9</th>\n",
              "      <td>(Reuters) - Billionaire Carl Icahn will advise...</td>\n",
              "      <td>0</td>\n",
              "    </tr>\n",
              "  </tbody>\n",
              "</table>\n",
              "</div>"
            ],
            "text/plain": [
              "                                                text  label\n",
              "0  Paul Manafort, the chair of Donald Trump s cam...      1\n",
              "1  How very  charitable  of the Lutheran and Cath...      1\n",
              "2  In case you ve been living under a rock for yo...      1\n",
              "3  PARIS (Reuters) - A court on Friday sentenced ...      0\n",
              "4  PRAGUE (Reuters) - The Czech government will s...      0\n",
              "5  Could this be a little bit of KARMA coming bac...      1\n",
              "6  Kansas  education system is a mess, thanks to ...      1\n",
              "7   I would hope that a wise Latina woman with th...      1\n",
              "8  HOUSTON (Reuters) - U.S. President Donald Trum...      0\n",
              "9  (Reuters) - Billionaire Carl Icahn will advise...      0"
            ]
          },
          "metadata": {},
          "execution_count": 4
        }
      ]
    },
    {
      "cell_type": "code",
      "metadata": {
        "colab": {
          "base_uri": "https://localhost:8080/"
        },
        "id": "n4xvsD8tzebW",
        "outputId": "1d0efa43-70a3-4b8b-c61f-0fa05de6c8b0"
      },
      "source": [
        "from google.colab import drive\n",
        "drive.mount('/content/drive')"
      ],
      "id": "n4xvsD8tzebW",
      "execution_count": 3,
      "outputs": [
        {
          "output_type": "stream",
          "name": "stdout",
          "text": [
            "Mounted at /content/drive\n"
          ]
        }
      ]
    },
    {
      "cell_type": "markdown",
      "metadata": {
        "id": "3ce63488"
      },
      "source": [
        "# Data Preprocessing Process"
      ],
      "id": "3ce63488"
    },
    {
      "cell_type": "code",
      "metadata": {
        "colab": {
          "base_uri": "https://localhost:8080/",
          "height": 461
        },
        "id": "3d474a4d",
        "outputId": "b5d68f58-c7e0-4e82-c9d0-23cbc7b782ba"
      },
      "source": [
        "def removeChar(text):\n",
        "    if type(text) is str:\n",
        "        text = text.lower()\n",
        "        text = re.sub('!,?','',text)\n",
        "        text = re.sub(\"'\",'',text)\n",
        "        text = re.sub('https?://\\S+|www\\.\\S+','',text)\n",
        "        text = re.sub('[%s]' % re.escape(string.punctuation),'',text)\n",
        "    return text\n",
        "\n",
        "\n",
        "\n",
        "nltk.download('stopwords')\n",
        "nltk.download('punkt')\n",
        "nltk.download('wordnet')\n",
        "from nltk.corpus import stopwords\n",
        "from nltk.tokenize import word_tokenize\n",
        "\n",
        "def stopping(text):\n",
        "  if type(text) is str:\n",
        "     text = text.split()\n",
        "     stops = set(stopwords.words(\"english\"))\n",
        "     text = [w for w in text if not w in stops]\n",
        "     text = \" \".join(text) \n",
        "  return text\n",
        "\n",
        "\n",
        "#Preprocessing for training data\n",
        "trdata['text'] = trdata['text'].apply(stopping)\n",
        "trdata['text'] = trdata['text'].apply(removeChar) \n",
        "trdata.head(10)  "
      ],
      "id": "3d474a4d",
      "execution_count": null,
      "outputs": [
        {
          "output_type": "stream",
          "name": "stdout",
          "text": [
            "[nltk_data] Downloading package stopwords to /root/nltk_data...\n",
            "[nltk_data]   Package stopwords is already up-to-date!\n",
            "[nltk_data] Downloading package punkt to /root/nltk_data...\n",
            "[nltk_data]   Package punkt is already up-to-date!\n",
            "[nltk_data] Downloading package wordnet to /root/nltk_data...\n",
            "[nltk_data]   Package wordnet is already up-to-date!\n"
          ]
        },
        {
          "output_type": "execute_result",
          "data": {
            "text/html": [
              "<div>\n",
              "<style scoped>\n",
              "    .dataframe tbody tr th:only-of-type {\n",
              "        vertical-align: middle;\n",
              "    }\n",
              "\n",
              "    .dataframe tbody tr th {\n",
              "        vertical-align: top;\n",
              "    }\n",
              "\n",
              "    .dataframe thead th {\n",
              "        text-align: right;\n",
              "    }\n",
              "</style>\n",
              "<table border=\"1\" class=\"dataframe\">\n",
              "  <thead>\n",
              "    <tr style=\"text-align: right;\">\n",
              "      <th></th>\n",
              "      <th>text</th>\n",
              "      <th>label</th>\n",
              "    </tr>\n",
              "  </thead>\n",
              "  <tbody>\n",
              "    <tr>\n",
              "      <th>0</th>\n",
              "      <td>paul manafort chair donald trump campaign got ...</td>\n",
              "      <td>1</td>\n",
              "    </tr>\n",
              "    <tr>\n",
              "      <th>1</th>\n",
              "      <td>how charitable lutheran catholic churches brin...</td>\n",
              "      <td>1</td>\n",
              "    </tr>\n",
              "    <tr>\n",
              "      <th>2</th>\n",
              "      <td>in case living rock entire life especially cam...</td>\n",
              "      <td>1</td>\n",
              "    </tr>\n",
              "    <tr>\n",
              "      <th>3</th>\n",
              "      <td>paris reuters  a court friday sentenced radica...</td>\n",
              "      <td>0</td>\n",
              "    </tr>\n",
              "    <tr>\n",
              "      <th>4</th>\n",
              "      <td>prague reuters  the czech government seek vote...</td>\n",
              "      <td>0</td>\n",
              "    </tr>\n",
              "    <tr>\n",
              "      <th>5</th>\n",
              "      <td>could little bit karma coming back nasty comme...</td>\n",
              "      <td>1</td>\n",
              "    </tr>\n",
              "    <tr>\n",
              "      <th>6</th>\n",
              "      <td>kansas education system mess thanks republican...</td>\n",
              "      <td>1</td>\n",
              "    </tr>\n",
              "    <tr>\n",
              "      <th>7</th>\n",
              "      <td>i would hope wise latina woman richness experi...</td>\n",
              "      <td>1</td>\n",
              "    </tr>\n",
              "    <tr>\n",
              "      <th>8</th>\n",
              "      <td>houston reuters  us president donald trump too...</td>\n",
              "      <td>0</td>\n",
              "    </tr>\n",
              "    <tr>\n",
              "      <th>9</th>\n",
              "      <td>reuters  billionaire carl icahn advise donald ...</td>\n",
              "      <td>0</td>\n",
              "    </tr>\n",
              "  </tbody>\n",
              "</table>\n",
              "</div>"
            ],
            "text/plain": [
              "                                                text  label\n",
              "0  paul manafort chair donald trump campaign got ...      1\n",
              "1  how charitable lutheran catholic churches brin...      1\n",
              "2  in case living rock entire life especially cam...      1\n",
              "3  paris reuters  a court friday sentenced radica...      0\n",
              "4  prague reuters  the czech government seek vote...      0\n",
              "5  could little bit karma coming back nasty comme...      1\n",
              "6  kansas education system mess thanks republican...      1\n",
              "7  i would hope wise latina woman richness experi...      1\n",
              "8  houston reuters  us president donald trump too...      0\n",
              "9  reuters  billionaire carl icahn advise donald ...      0"
            ]
          },
          "metadata": {},
          "execution_count": 20
        }
      ]
    },
    {
      "cell_type": "code",
      "metadata": {
        "id": "c0153f77"
      },
      "source": [
        "x = trdata['text']\n",
        "y = trdata['label']\n",
        "# train test split\n",
        "x_train,x_test,y_train,y_test = train_test_split(x,y,test_size=0.25,random_state=6)\n",
        "\n",
        "\n",
        "# Feature Extraction Process for training data\n",
        "from sklearn.feature_extraction.text import TfidfVectorizer\n",
        "Vec = TfidfVectorizer()\n",
        "xf_train = Vec.fit_transform(x_train.astype(str))\n",
        "xf_test = Vec.transform(x_test.astype(str))\n",
        "\n"
      ],
      "id": "c0153f77",
      "execution_count": null,
      "outputs": []
    },
    {
      "cell_type": "markdown",
      "metadata": {
        "id": "230f48fe"
      },
      "source": [
        "# Logistic Regression "
      ],
      "id": "230f48fe"
    },
    {
      "cell_type": "code",
      "metadata": {
        "colab": {
          "base_uri": "https://localhost:8080/"
        },
        "id": "0dc4e3d4",
        "outputId": "4df97c9c-4875-4496-da3b-ad2ab863bfc2"
      },
      "source": [
        "import matplotlib.pyplot as plt\n",
        "from sklearn.metrics import plot_confusion_matrix\n",
        "from sklearn.linear_model import LogisticRegression\n",
        "from sklearn.metrics import accuracy_score,confusion_matrix\n",
        "from sklearn.metrics import roc_curve, auc\n",
        "from sklearn.metrics import mean_absolute_error\n",
        "Log = LogisticRegression()\n",
        "Log.fit(xf_train,y_train)\n",
        "Log.score(xf_test,y_test)"
      ],
      "id": "0dc4e3d4",
      "execution_count": null,
      "outputs": [
        {
          "output_type": "execute_result",
          "data": {
            "text/plain": [
              "0.9844724449535446"
            ]
          },
          "metadata": {},
          "execution_count": 22
        }
      ]
    },
    {
      "cell_type": "code",
      "metadata": {
        "colab": {
          "base_uri": "https://localhost:8080/"
        },
        "id": "732bb630",
        "scrolled": true,
        "outputId": "d033cb19-dae5-480c-decc-2661bdb32af8"
      },
      "source": [
        "Pred = Log.predict(xf_test)\n",
        "print(classification_report(y_test,Pred))"
      ],
      "id": "732bb630",
      "execution_count": null,
      "outputs": [
        {
          "output_type": "stream",
          "name": "stdout",
          "text": [
            "              precision    recall  f1-score   support\n",
            "\n",
            "           0       0.98      0.99      0.98      3745\n",
            "           1       0.99      0.98      0.99      4112\n",
            "\n",
            "    accuracy                           0.98      7857\n",
            "   macro avg       0.98      0.98      0.98      7857\n",
            "weighted avg       0.98      0.98      0.98      7857\n",
            "\n"
          ]
        }
      ]
    },
    {
      "cell_type": "code",
      "metadata": {
        "colab": {
          "base_uri": "https://localhost:8080/"
        },
        "id": "qIx6clDEgild",
        "outputId": "65366a98-2911-40bd-bb63-35f1aad82d3c"
      },
      "source": [
        "\n",
        "LR_MAPE = mean_absolute_error(y_test,Pred)\n",
        "print(LR_MAPE)"
      ],
      "id": "qIx6clDEgild",
      "execution_count": null,
      "outputs": [
        {
          "output_type": "stream",
          "name": "stdout",
          "text": [
            "2.5984409373284065\n"
          ]
        }
      ]
    },
    {
      "cell_type": "code",
      "metadata": {
        "colab": {
          "base_uri": "https://localhost:8080/",
          "height": 383
        },
        "id": "F0Zlol18D5jw",
        "outputId": "36ee6cc5-76e5-4ad5-95d1-985487c1d082"
      },
      "source": [
        "plot_confusion_matrix(Log,xf_test,y_test)\n",
        "print(\"\\n\")\n",
        "print(confusion_matrix(y_test,Pred))\n",
        "print(\"\\n\")"
      ],
      "id": "F0Zlol18D5jw",
      "execution_count": null,
      "outputs": [
        {
          "output_type": "stream",
          "name": "stdout",
          "text": [
            "\n",
            "\n",
            "[[3700   45]\n",
            " [  77 4035]]\n",
            "\n",
            "\n"
          ]
        },
        {
          "output_type": "display_data",
          "data": {
            "image/png": "[encoded data removed]",
            "text/plain": [
              "<Figure size 432x288 with 2 Axes>"
            ]
          },
          "metadata": {
            "needs_background": "light"
          }
        }
      ]
    },
    {
      "cell_type": "markdown",
      "metadata": {
        "id": "24cc48ba"
      },
      "source": [
        "# Support Vector Machines "
      ],
      "id": "24cc48ba"
    },
    {
      "cell_type": "code",
      "metadata": {
        "colab": {
          "base_uri": "https://localhost:8080/"
        },
        "id": "3413479d",
        "outputId": "c053a085-e5b1-488f-a89c-5fb098c3f5a5"
      },
      "source": [
        "from sklearn import svm\n",
        "SuVeMa = svm.SVC(kernel='linear', gamma= 'auto', C=2)\n",
        "SuVeMa.fit(xf_train,y_train)\n",
        "SuVeMa.score(xf_test,y_test)"
      ],
      "id": "3413479d",
      "execution_count": null,
      "outputs": [
        {
          "output_type": "execute_result",
          "data": {
            "text/plain": [
              "0.9936362479317806"
            ]
          },
          "metadata": {},
          "execution_count": 26
        }
      ]
    },
    {
      "cell_type": "code",
      "metadata": {
        "colab": {
          "base_uri": "https://localhost:8080/"
        },
        "id": "6e08f00e",
        "outputId": "a5fc88b1-d80c-4ce2-c008-7c03f6eb7729"
      },
      "source": [
        "Pred1 = SuVeMa.predict(xf_test)\n",
        "print(classification_report(y_test,Pred1))"
      ],
      "id": "6e08f00e",
      "execution_count": null,
      "outputs": [
        {
          "output_type": "stream",
          "name": "stdout",
          "text": [
            "              precision    recall  f1-score   support\n",
            "\n",
            "           0       0.99      1.00      0.99      3745\n",
            "           1       1.00      0.99      0.99      4112\n",
            "\n",
            "    accuracy                           0.99      7857\n",
            "   macro avg       0.99      0.99      0.99      7857\n",
            "weighted avg       0.99      0.99      0.99      7857\n",
            "\n"
          ]
        }
      ]
    },
    {
      "cell_type": "code",
      "metadata": {
        "colab": {
          "base_uri": "https://localhost:8080/"
        },
        "id": "PcU9GDgUk353",
        "outputId": "b052a515-217e-4491-b7bf-485f8552de6a"
      },
      "source": [
        "SVM_MAPE = mean_absolute_error(y_test,Pred1)\n",
        "print(SVM_MAPE)"
      ],
      "id": "PcU9GDgUk353",
      "execution_count": null,
      "outputs": [
        {
          "output_type": "stream",
          "name": "stdout",
          "text": [
            "1.0835857252275252\n"
          ]
        }
      ]
    },
    {
      "cell_type": "code",
      "metadata": {
        "colab": {
          "base_uri": "https://localhost:8080/",
          "height": 381
        },
        "id": "KNgb1CvMFdmp",
        "outputId": "8fc6c319-87c6-48af-89fb-ab4976a6dbb6"
      },
      "source": [
        "plot_confusion_matrix(SuVeMa,xf_test,y_test)\n",
        "print(\"\\n\")\n",
        "print(confusion_matrix(y_test,Pred1))\n",
        "print(\"\\n\")"
      ],
      "id": "KNgb1CvMFdmp",
      "execution_count": null,
      "outputs": [
        {
          "output_type": "stream",
          "name": "stdout",
          "text": [
            "\n",
            "\n",
            "[[3729   16]\n",
            " [  34 4078]]\n",
            "\n",
            "\n"
          ]
        },
        {
          "output_type": "display_data",
          "data": {
            "image/png": "[encoded data removed]",
            "text/plain": [
              "<Figure size 432x288 with 2 Axes>"
            ]
          },
          "metadata": {
            "needs_background": "light"
          }
        }
      ]
    },
    {
      "cell_type": "markdown",
      "metadata": {
        "id": "e4a3916a"
      },
      "source": [
        "# K Nearest Neighbors Classifier"
      ],
      "id": "e4a3916a"
    },
    {
      "cell_type": "code",
      "metadata": {
        "colab": {
          "base_uri": "https://localhost:8080/"
        },
        "id": "bd034c76",
        "outputId": "f229962d-6d33-47c2-e8a5-8176d181ffd2"
      },
      "source": [
        "from sklearn.neighbors import KNeighborsClassifier\n",
        "knn = KNeighborsClassifier(n_neighbors=2)\n",
        "knn.fit(xf_train,y_train)\n",
        "knn.score(xf_test,y_test)"
      ],
      "id": "bd034c76",
      "execution_count": null,
      "outputs": [
        {
          "output_type": "execute_result",
          "data": {
            "text/plain": [
              "0.7042128038691613"
            ]
          },
          "metadata": {},
          "execution_count": 30
        }
      ]
    },
    {
      "cell_type": "code",
      "metadata": {
        "colab": {
          "base_uri": "https://localhost:8080/"
        },
        "id": "536e8106",
        "outputId": "7a28e8f9-489a-4c3d-87a3-38ff2a42095b"
      },
      "source": [
        "Pred2 = knn.predict(xf_test)\n",
        "print(classification_report(y_test,Pred2))"
      ],
      "id": "536e8106",
      "execution_count": null,
      "outputs": [
        {
          "output_type": "stream",
          "name": "stdout",
          "text": [
            "              precision    recall  f1-score   support\n",
            "\n",
            "           0       0.92      0.41      0.57      3745\n",
            "           1       0.64      0.97      0.77      4112\n",
            "\n",
            "    accuracy                           0.70      7857\n",
            "   macro avg       0.78      0.69      0.67      7857\n",
            "weighted avg       0.78      0.70      0.68      7857\n",
            "\n"
          ]
        }
      ]
    },
    {
      "cell_type": "code",
      "metadata": {
        "colab": {
          "base_uri": "https://localhost:8080/"
        },
        "id": "Zm6bszytlEQZ",
        "outputId": "01e4a859-1014-4a47-e7eb-6a2c4bc58331"
      },
      "source": [
        "KNN_MAPE = mean_absolute_error(y_test,Pred2)\n",
        "print(KNN_MAPE)"
      ],
      "id": "Zm6bszytlEQZ",
      "execution_count": null,
      "outputs": [
        {
          "output_type": "stream",
          "name": "stdout",
          "text": [
            "0.29578719613083876\n"
          ]
        }
      ]
    },
    {
      "cell_type": "code",
      "metadata": {
        "colab": {
          "base_uri": "https://localhost:8080/",
          "height": 381
        },
        "id": "IZ0gwnRrFouA",
        "outputId": "15970fb4-e909-4527-80dd-7bffdb25b2f3"
      },
      "source": [
        "plot_confusion_matrix(knn,xf_test,y_test)\n",
        "print(\"\\n\")\n",
        "print(confusion_matrix(y_test,Pred2))\n",
        "print(\"\\n\")"
      ],
      "id": "IZ0gwnRrFouA",
      "execution_count": null,
      "outputs": [
        {
          "output_type": "stream",
          "name": "stdout",
          "text": [
            "\n",
            "\n",
            "[[1554 2191]\n",
            " [ 133 3979]]\n",
            "\n",
            "\n"
          ]
        },
        {
          "output_type": "display_data",
          "data": {
            "image/png": "[encoded data removed]",
            "text/plain": [
              "<Figure size 432x288 with 2 Axes>"
            ]
          },
          "metadata": {
            "needs_background": "light"
          }
        }
      ]
    },
    {
      "cell_type": "markdown",
      "metadata": {
        "id": "b306e4a4"
      },
      "source": [
        "# Decision Tree Classifier"
      ],
      "id": "b306e4a4"
    },
    {
      "cell_type": "code",
      "metadata": {
        "colab": {
          "base_uri": "https://localhost:8080/"
        },
        "id": "57025075",
        "outputId": "69d1ea49-a2f1-40f0-c5fa-d17c7f1ef801"
      },
      "source": [
        "from sklearn.tree import DecisionTreeClassifier\n",
        "dt = DecisionTreeClassifier()\n",
        "dt.fit(xf_train,y_train)\n",
        "dt.score(xf_test,y_test)"
      ],
      "id": "57025075",
      "execution_count": null,
      "outputs": [
        {
          "output_type": "execute_result",
          "data": {
            "text/plain": [
              "0.9935089728904162"
            ]
          },
          "metadata": {},
          "execution_count": 34
        }
      ]
    },
    {
      "cell_type": "code",
      "metadata": {
        "colab": {
          "base_uri": "https://localhost:8080/"
        },
        "id": "2ed9bda1",
        "outputId": "6a8c4436-31a0-4620-b86a-e71b67b5d8be"
      },
      "source": [
        "Pred4 = dt.predict(xf_test)\n",
        "print(classification_report(y_test,Pred4))"
      ],
      "id": "2ed9bda1",
      "execution_count": null,
      "outputs": [
        {
          "output_type": "stream",
          "name": "stdout",
          "text": [
            "              precision    recall  f1-score   support\n",
            "\n",
            "           0       0.99      0.99      0.99      3745\n",
            "           1       1.00      0.99      0.99      4112\n",
            "\n",
            "    accuracy                           0.99      7857\n",
            "   macro avg       0.99      0.99      0.99      7857\n",
            "weighted avg       0.99      0.99      0.99      7857\n",
            "\n"
          ]
        }
      ]
    },
    {
      "cell_type": "code",
      "metadata": {
        "colab": {
          "base_uri": "https://localhost:8080/"
        },
        "id": "pLHMHD8ulMsu",
        "outputId": "bbf22c15-6062-4655-9aad-0f0c2ae9575b"
      },
      "source": [
        "DTC_MAPE = mean_absolute_error(y_test,Pred4)\n",
        "print(DTC_MAPE)"
      ],
      "id": "pLHMHD8ulMsu",
      "execution_count": null,
      "outputs": [
        {
          "output_type": "stream",
          "name": "stdout",
          "text": [
            "0.006491027109583811\n"
          ]
        }
      ]
    },
    {
      "cell_type": "code",
      "metadata": {
        "colab": {
          "base_uri": "https://localhost:8080/",
          "height": 381
        },
        "id": "C20ynIbTGEBQ",
        "outputId": "e128b57d-e680-46d3-b227-10c28a1aa43b"
      },
      "source": [
        "plot_confusion_matrix(dt,xf_test,y_test)\n",
        "print(\"\\n\")\n",
        "print(confusion_matrix(y_test,Pred4))\n",
        "print(\"\\n\")"
      ],
      "id": "C20ynIbTGEBQ",
      "execution_count": null,
      "outputs": [
        {
          "output_type": "stream",
          "name": "stdout",
          "text": [
            "\n",
            "\n",
            "[[3725   20]\n",
            " [  31 4081]]\n",
            "\n",
            "\n"
          ]
        },
        {
          "output_type": "display_data",
          "data": {
            "image/png": "[encoded data removed]",
            "text/plain": [
              "<Figure size 432x288 with 2 Axes>"
            ]
          },
          "metadata": {
            "needs_background": "light"
          }
        }
      ]
    },
    {
      "cell_type": "markdown",
      "metadata": {
        "id": "df802bd4"
      },
      "source": [
        "# Gradient Boosting Classifier"
      ],
      "id": "df802bd4"
    },
    {
      "cell_type": "code",
      "metadata": {
        "colab": {
          "base_uri": "https://localhost:8080/"
        },
        "id": "24ad22d1",
        "outputId": "5911e809-abd3-4f6a-e0f9-fe5defed44d6"
      },
      "source": [
        "from sklearn.ensemble import GradientBoostingClassifier\n",
        "gb = GradientBoostingClassifier(random_state=0)\n",
        "gb.fit(xf_train,y_train)\n",
        "gb.score(xf_test,y_test)\n"
      ],
      "id": "24ad22d1",
      "execution_count": null,
      "outputs": [
        {
          "output_type": "execute_result",
          "data": {
            "text/plain": [
              "0.9936362479317806"
            ]
          },
          "metadata": {},
          "execution_count": 38
        }
      ]
    },
    {
      "cell_type": "code",
      "metadata": {
        "colab": {
          "base_uri": "https://localhost:8080/"
        },
        "id": "ec19bc11",
        "outputId": "943de20e-2b80-4311-bbf4-ec3501240fe6"
      },
      "source": [
        "Pred5 = gb.predict(xf_test)\n",
        "print(classification_report(y_test,Pred5))"
      ],
      "id": "ec19bc11",
      "execution_count": null,
      "outputs": [
        {
          "output_type": "stream",
          "name": "stdout",
          "text": [
            "              precision    recall  f1-score   support\n",
            "\n",
            "           0       0.99      1.00      0.99      3745\n",
            "           1       1.00      0.99      0.99      4112\n",
            "\n",
            "    accuracy                           0.99      7857\n",
            "   macro avg       0.99      0.99      0.99      7857\n",
            "weighted avg       0.99      0.99      0.99      7857\n",
            "\n"
          ]
        }
      ]
    },
    {
      "cell_type": "code",
      "metadata": {
        "colab": {
          "base_uri": "https://localhost:8080/"
        },
        "id": "iubtcrKClTUx",
        "outputId": "b8422cee-0975-4721-8e18-b05ab1287c09"
      },
      "source": [
        "GBC_MAPE = mean_absolute_error(y_test,Pred5)\n",
        "print(GBC_MAPE)"
      ],
      "id": "iubtcrKClTUx",
      "execution_count": null,
      "outputs": [
        {
          "output_type": "stream",
          "name": "stdout",
          "text": [
            "0.006363752068219423\n"
          ]
        }
      ]
    },
    {
      "cell_type": "code",
      "metadata": {
        "colab": {
          "base_uri": "https://localhost:8080/",
          "height": 381
        },
        "id": "Q8lXr21bGI54",
        "outputId": "b3ce9298-5784-4e7a-fde8-1fc8784fcab2"
      },
      "source": [
        "plot_confusion_matrix(gb,xf_test,y_test)\n",
        "print(\"\\n\")\n",
        "print(confusion_matrix(y_test,Pred5))\n",
        "print(\"\\n\")"
      ],
      "id": "Q8lXr21bGI54",
      "execution_count": null,
      "outputs": [
        {
          "output_type": "stream",
          "name": "stdout",
          "text": [
            "\n",
            "\n",
            "[[3733   12]\n",
            " [  38 4074]]\n",
            "\n",
            "\n"
          ]
        },
        {
          "output_type": "display_data",
          "data": {
            "image/png": "[encoded data removed]",
            "text/plain": [
              "<Figure size 432x288 with 2 Axes>"
            ]
          },
          "metadata": {
            "needs_background": "light"
          }
        }
      ]
    },
    {
      "cell_type": "markdown",
      "metadata": {
        "id": "be42343f"
      },
      "source": [
        "# Random Forest Classifier"
      ],
      "id": "be42343f"
    },
    {
      "cell_type": "code",
      "metadata": {
        "colab": {
          "base_uri": "https://localhost:8080/"
        },
        "id": "d1d134c5",
        "outputId": "7a00f381-41fb-473b-a291-69a07e34e512"
      },
      "source": [
        "from sklearn.ensemble import RandomForestClassifier\n",
        "rf = RandomForestClassifier(random_state=0)\n",
        "rf.fit(xf_train, y_train)\n",
        "rf.score(xf_test,y_test)"
      ],
      "id": "d1d134c5",
      "execution_count": null,
      "outputs": [
        {
          "output_type": "execute_result",
          "data": {
            "text/plain": [
              "0.9844724449535446"
            ]
          },
          "metadata": {},
          "execution_count": 42
        }
      ]
    },
    {
      "cell_type": "code",
      "metadata": {
        "colab": {
          "base_uri": "https://localhost:8080/"
        },
        "id": "07c8de38",
        "outputId": "fdf9eda1-10aa-4676-a893-854fea2bf70d"
      },
      "source": [
        "Pred6 = rf.predict(xf_test)\n",
        "print(classification_report(y_test,Pred6))"
      ],
      "id": "07c8de38",
      "execution_count": null,
      "outputs": [
        {
          "output_type": "stream",
          "name": "stdout",
          "text": [
            "              precision    recall  f1-score   support\n",
            "\n",
            "           0       0.98      0.99      0.98      3745\n",
            "           1       0.99      0.98      0.99      4112\n",
            "\n",
            "    accuracy                           0.98      7857\n",
            "   macro avg       0.98      0.98      0.98      7857\n",
            "weighted avg       0.98      0.98      0.98      7857\n",
            "\n"
          ]
        }
      ]
    },
    {
      "cell_type": "code",
      "metadata": {
        "colab": {
          "base_uri": "https://localhost:8080/"
        },
        "id": "PAa3X_valZgT",
        "outputId": "37bcc861-5e0d-4a4b-ce9d-efea9dbc3be9"
      },
      "source": [
        "RFC_MAPE = mean_absolute_error(y_test,Pred6)\n",
        "print(RFC_MAPE)"
      ],
      "id": "PAa3X_valZgT",
      "execution_count": null,
      "outputs": [
        {
          "output_type": "stream",
          "name": "stdout",
          "text": [
            "0.01552755504645539\n"
          ]
        }
      ]
    },
    {
      "cell_type": "code",
      "metadata": {
        "colab": {
          "base_uri": "https://localhost:8080/",
          "height": 383
        },
        "id": "s8IKZSyOGPVQ",
        "outputId": "f6afceb7-fcf0-46b1-c05b-584d9478eed5"
      },
      "source": [
        "plot_confusion_matrix(rf,xf_test,y_test)\n",
        "print(\"\\n\")\n",
        "print(confusion_matrix(y_test,Pred6))\n",
        "print(\"\\n\")"
      ],
      "id": "s8IKZSyOGPVQ",
      "execution_count": null,
      "outputs": [
        {
          "output_type": "stream",
          "name": "stdout",
          "text": [
            "\n",
            "\n",
            "[[3698   47]\n",
            " [  75 4037]]\n",
            "\n",
            "\n"
          ]
        },
        {
          "output_type": "display_data",
          "data": {
            "image/png": "[encoded data removed]",
            "text/plain": [
              "<Figure size 432x288 with 2 Axes>"
            ]
          },
          "metadata": {
            "needs_background": "light"
          }
        }
      ]
    },
    {
      "cell_type": "markdown",
      "metadata": {
        "id": "AKPm1vaR88FG"
      },
      "source": [
        "# Neural Networks \n"
      ],
      "id": "AKPm1vaR88FG"
    },
    {
      "cell_type": "code",
      "metadata": {
        "id": "ZnsX9uxsbXRx"
      },
      "source": [
        "from tensorflow.keras.layers import Embedding\n",
        "from tensorflow.keras.preprocessing.sequence import pad_sequences\n",
        "from tensorflow.keras.models import Sequential\n",
        "from tensorflow.keras.preprocessing.text import one_hot\n",
        "from tensorflow.keras.layers import LSTM\n",
        "from tensorflow.keras.layers import Dense\n",
        "wordsVec = 50000\n",
        "oneHot = [one_hot(words,wordsVec)for words in trdata['text'].astype(str)]"
      ],
      "id": "ZnsX9uxsbXRx",
      "execution_count": null,
      "outputs": []
    },
    {
      "cell_type": "code",
      "metadata": {
        "colab": {
          "base_uri": "https://localhost:8080/"
        },
        "id": "KaJN8uf8jy43",
        "outputId": "edf40908-440e-4213-b0e3-0cd46a912917"
      },
      "source": [
        "s_length = 20\n",
        "embedded = pad_sequences(oneHot,padding='pre',maxlen=s_length)\n",
        "print(embedded)"
      ],
      "id": "KaJN8uf8jy43",
      "execution_count": null,
      "outputs": [
        {
          "output_type": "stream",
          "name": "stdout",
          "text": [
            "[[44981 18017 11547 ... 39078 45170 21153]\n",
            " [28092 16938 27881 ... 27881 35278  4807]\n",
            " [26839 30183 49179 ... 42440 44951 33999]\n",
            " ...\n",
            " [  396 28697 25070 ... 12249  6508 25294]\n",
            " [18896 33830 43382 ...  3817  2393 25996]\n",
            " [24483 38865 44739 ... 27184 38539 48112]]\n"
          ]
        }
      ]
    },
    {
      "cell_type": "code",
      "metadata": {
        "id": "UeWDTsWY_b39"
      },
      "source": [
        "embedded_Vec_features = 40\n",
        "model=Sequential()\n",
        "model.add(Embedding(wordsVec,embedded_Vec_features,input_length=s_length))\n",
        "model.add(LSTM(100))\n",
        "model.add(Dense(1,activation='sigmoid'))\n",
        "model.compile(loss='binary_crossentropy',optimizer='adam',metrics=['accuracy'])"
      ],
      "id": "UeWDTsWY_b39",
      "execution_count": null,
      "outputs": []
    },
    {
      "cell_type": "code",
      "metadata": {
        "colab": {
          "base_uri": "https://localhost:8080/"
        },
        "id": "bsdvc-muAftb",
        "outputId": "2be5287c-c5f9-43d3-fa01-5d856a8948a8"
      },
      "source": [
        "X1 = np.array(embedded)\n",
        "Y1 = np.array(y)\n",
        "X1.shape,Y1.shape"
      ],
      "id": "bsdvc-muAftb",
      "execution_count": null,
      "outputs": [
        {
          "output_type": "execute_result",
          "data": {
            "text/plain": [
              "((31428, 20), (31428,))"
            ]
          },
          "metadata": {},
          "execution_count": 49
        }
      ]
    },
    {
      "cell_type": "code",
      "metadata": {
        "colab": {
          "base_uri": "https://localhost:8080/"
        },
        "id": "DAMRQ1akCIIH",
        "outputId": "3db3d8d4-84ac-4b53-bd18-1a725fb03e46"
      },
      "source": [
        "from sklearn.model_selection import train_test_split\n",
        "X1_train, X1_test, y1_train, y1_test = train_test_split(X1, Y1, test_size=0.25, random_state=6)\n",
        "History = model.fit(X1_train,y1_train,validation_data=(X1_test,y1_test),epochs=20,batch_size=32)"
      ],
      "id": "DAMRQ1akCIIH",
      "execution_count": null,
      "outputs": [
        {
          "output_type": "stream",
          "name": "stdout",
          "text": [
            "Epoch 1/20\n",
            "737/737 [==============================] - 34s 43ms/step - loss: 0.1885 - accuracy: 0.9216 - val_loss: 0.1029 - val_accuracy: 0.9635\n",
            "Epoch 2/20\n",
            "737/737 [==============================] - 31s 42ms/step - loss: 0.0419 - accuracy: 0.9859 - val_loss: 0.1213 - val_accuracy: 0.9595\n",
            "Epoch 3/20\n",
            "737/737 [==============================] - 31s 42ms/step - loss: 0.0128 - accuracy: 0.9962 - val_loss: 0.1435 - val_accuracy: 0.9579\n",
            "Epoch 4/20\n",
            "737/737 [==============================] - 32s 43ms/step - loss: 0.0051 - accuracy: 0.9985 - val_loss: 0.2043 - val_accuracy: 0.9542\n",
            "Epoch 5/20\n",
            "737/737 [==============================] - 31s 42ms/step - loss: 0.0020 - accuracy: 0.9995 - val_loss: 0.2483 - val_accuracy: 0.9570\n",
            "Epoch 6/20\n",
            "737/737 [==============================] - 31s 43ms/step - loss: 7.0397e-04 - accuracy: 0.9998 - val_loss: 0.2439 - val_accuracy: 0.9569\n",
            "Epoch 7/20\n",
            "737/737 [==============================] - 31s 42ms/step - loss: 0.0012 - accuracy: 0.9996 - val_loss: 0.2269 - val_accuracy: 0.9593\n",
            "Epoch 8/20\n",
            "737/737 [==============================] - 32s 43ms/step - loss: 0.0050 - accuracy: 0.9986 - val_loss: 0.2057 - val_accuracy: 0.9586\n",
            "Epoch 9/20\n",
            "737/737 [==============================] - 31s 42ms/step - loss: 0.0020 - accuracy: 0.9993 - val_loss: 0.2566 - val_accuracy: 0.9527\n",
            "Epoch 10/20\n",
            "737/737 [==============================] - 31s 42ms/step - loss: 0.0016 - accuracy: 0.9993 - val_loss: 0.2370 - val_accuracy: 0.9593\n",
            "Epoch 11/20\n",
            "737/737 [==============================] - 31s 43ms/step - loss: 0.0022 - accuracy: 0.9992 - val_loss: 0.2367 - val_accuracy: 0.9586\n",
            "Epoch 12/20\n",
            "737/737 [==============================] - 32s 43ms/step - loss: 9.1078e-04 - accuracy: 0.9998 - val_loss: 0.2645 - val_accuracy: 0.9579\n",
            "Epoch 13/20\n",
            "737/737 [==============================] - 31s 43ms/step - loss: 5.8894e-05 - accuracy: 1.0000 - val_loss: 0.2941 - val_accuracy: 0.9560\n",
            "Epoch 14/20\n",
            "737/737 [==============================] - 32s 43ms/step - loss: 8.6268e-06 - accuracy: 1.0000 - val_loss: 0.3130 - val_accuracy: 0.9561\n",
            "Epoch 15/20\n",
            "737/737 [==============================] - 31s 43ms/step - loss: 3.6676e-06 - accuracy: 1.0000 - val_loss: 0.3285 - val_accuracy: 0.9551\n",
            "Epoch 16/20\n",
            "737/737 [==============================] - 31s 42ms/step - loss: 2.2942e-06 - accuracy: 1.0000 - val_loss: 0.3432 - val_accuracy: 0.9547\n",
            "Epoch 17/20\n",
            "737/737 [==============================] - 31s 42ms/step - loss: 1.4998e-06 - accuracy: 1.0000 - val_loss: 0.3577 - val_accuracy: 0.9543\n",
            "Epoch 18/20\n",
            "737/737 [==============================] - 31s 42ms/step - loss: 1.0107e-06 - accuracy: 1.0000 - val_loss: 0.3708 - val_accuracy: 0.9541\n",
            "Epoch 19/20\n",
            "737/737 [==============================] - 31s 42ms/step - loss: 6.8201e-07 - accuracy: 1.0000 - val_loss: 0.3837 - val_accuracy: 0.9535\n",
            "Epoch 20/20\n",
            "737/737 [==============================] - 31s 42ms/step - loss: 4.6059e-07 - accuracy: 1.0000 - val_loss: 0.3963 - val_accuracy: 0.9532\n"
          ]
        }
      ]
    },
    {
      "cell_type": "code",
      "metadata": {
        "colab": {
          "base_uri": "https://localhost:8080/",
          "height": 296
        },
        "id": "grw1OBxZDeSy",
        "outputId": "ae258c1a-4fcb-4532-ec29-0607fd9929e0"
      },
      "source": [
        "import matplotlib.pyplot as plt\n",
        "plt.plot(History.history['val_accuracy'])\n",
        "plt.plot(History.history['accuracy'])\n",
        "plt.ylabel('Accuracy')\n",
        "plt.xlabel('Epoch')\n",
        "plt.legend(['train', 'test'], loc='upper right')"
      ],
      "id": "grw1OBxZDeSy",
      "execution_count": null,
      "outputs": [
        {
          "output_type": "execute_result",
          "data": {
            "text/plain": [
              "<matplotlib.legend.Legend at 0x7f1750b4b690>"
            ]
          },
          "metadata": {},
          "execution_count": 53
        },
        {
          "output_type": "display_data",
          "data": {
            "image/png": "[encoded data removed]",
            "text/plain": [
              "<Figure size 432x288 with 1 Axes>"
            ]
          },
          "metadata": {
            "needs_background": "light"
          }
        }
      ]
    },
    {
      "cell_type": "markdown",
      "metadata": {
        "id": "kCWA8XPu96I7"
      },
      "source": [
        "# ROC and AUC For SVM and logistic Regression"
      ],
      "id": "kCWA8XPu96I7"
    },
    {
      "cell_type": "code",
      "metadata": {
        "id": "EfqgQRTGWy3H",
        "colab": {
          "base_uri": "https://localhost:8080/",
          "height": 457
        },
        "outputId": "7d72c855-4257-4ff5-c4a9-39d1afba3f3f"
      },
      "source": [
        "Pred = Log.decision_function(xf_test)\n",
        "Pred1 = SuVeMa.decision_function(xf_test)\n",
        "#Pred6 = rf.decision_function(xf_test)\n",
        "#Logistic Regression fpr,tpr\n",
        "log_fpr, log_tpr, threshold = roc_curve(y_test, Pred)\n",
        "auc_log = auc(log_fpr, log_tpr)\n",
        "\n",
        "#SVM fpr,tpr\n",
        "svm_fpr, svm_tpr, threshold = roc_curve(y_test, Pred1)\n",
        "auc_svm = auc(svm_fpr, svm_tpr)\n",
        "\n",
        "\n",
        "\n",
        "plt.figure(figsize=(5, 5), dpi=100)\n",
        "plt.plot(svm_fpr, svm_tpr, linestyle='-', label='SVM (auc = %0.3f)' % auc_svm)\n",
        "plt.plot(log_fpr, log_tpr, marker='.', label='Logistic Reg (auc = %0.3f)' % auc_log)\n",
        "\n",
        "\n",
        "\n",
        "plt.xlabel('False Positive ')\n",
        "plt.ylabel('True Positive ')\n",
        "\n",
        "plt.legend()\n",
        "\n",
        "plt.show()"
      ],
      "id": "EfqgQRTGWy3H",
      "execution_count": null,
      "outputs": [
        {
          "output_type": "display_data",
          "data": {
            "image/png": "[encoded data removed]",
            "text/plain": [
              "<Figure size 500x500 with 1 Axes>"
            ]
          },
          "metadata": {
            "needs_background": "light"
          }
        }
      ]
    }
  ]
}